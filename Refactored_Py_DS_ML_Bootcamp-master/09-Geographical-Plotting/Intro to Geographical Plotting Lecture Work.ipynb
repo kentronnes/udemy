{
 "cells": [
  {
   "cell_type": "markdown",
   "metadata": {},
   "source": [
    "<h1>Choropleth Maps</h1>"
   ]
  },
  {
   "cell_type": "code",
   "execution_count": 1,
   "metadata": {},
   "outputs": [],
   "source": [
    "# allows you to plot out information on a global or nationwide scale"
   ]
  },
  {
   "cell_type": "code",
   "execution_count": 2,
   "metadata": {},
   "outputs": [],
   "source": [
    "import plotly.plotly as py"
   ]
  },
  {
   "cell_type": "code",
   "execution_count": 8,
   "metadata": {},
   "outputs": [],
   "source": [
    "from plotly.offline import download_plotlyjs, init_notebook_mode, plot, iplot\n",
    "import plotly.graph_objs as go"
   ]
  },
  {
   "cell_type": "code",
   "execution_count": 4,
   "metadata": {},
   "outputs": [
    {
     "data": {
      "text/html": [
       "<script type=\"text/javascript\">window.PlotlyConfig = {MathJaxConfig: 'local'};</script><script type=\"text/javascript\">if (window.MathJax) {MathJax.Hub.Config({SVG: {font: \"STIX-Web\"}});}</script><script>requirejs.config({paths: { 'plotly': ['https://cdn.plot.ly/plotly-latest.min']},});if(!window._Plotly) {require(['plotly'],function(plotly) {window._Plotly=plotly;});}</script>"
      ],
      "text/vnd.plotly.v1+html": [
       "<script type=\"text/javascript\">window.PlotlyConfig = {MathJaxConfig: 'local'};</script><script type=\"text/javascript\">if (window.MathJax) {MathJax.Hub.Config({SVG: {font: \"STIX-Web\"}});}</script><script>requirejs.config({paths: { 'plotly': ['https://cdn.plot.ly/plotly-latest.min']},});if(!window._Plotly) {require(['plotly'],function(plotly) {window._Plotly=plotly;});}</script>"
      ]
     },
     "metadata": {},
     "output_type": "display_data"
    }
   ],
   "source": [
    "init_notebook_mode(connected=True)"
   ]
  },
  {
   "cell_type": "code",
   "execution_count": 31,
   "metadata": {},
   "outputs": [],
   "source": [
    "data = dict(type = 'choropleth',\n",
    "           locations = ['AZ','CA','CO'],\n",
    "           locationmode = 'USA-states',\n",
    "           colorscale = 'Greens',\n",
    "           text = ['Arizona', 'California', 'Colorado'],\n",
    "           z = [1.0,2.0,3.0],\n",
    "           colorbar = {'title': 'Colorbar Title Goes Here'})"
   ]
  },
  {
   "cell_type": "code",
   "execution_count": 27,
   "metadata": {},
   "outputs": [
    {
     "data": {
      "text/plain": [
       "{'type': 'choropleth',\n",
       " 'locations': ['AZ', 'CA', 'CO'],\n",
       " 'locationmode': 'USA-states',\n",
       " 'colorscale': 'Greens',\n",
       " 'text': ['text 1', 'text 2', 'text 3'],\n",
       " 'z': [1.0, 2.0, 3.0],\n",
       " 'colorbar': {'title': 'Colorbar Title Goes Here'}}"
      ]
     },
     "execution_count": 27,
     "metadata": {},
     "output_type": "execute_result"
    }
   ],
   "source": [
    "data"
   ]
  },
  {
   "cell_type": "code",
   "execution_count": 33,
   "metadata": {},
   "outputs": [],
   "source": [
    "layout = dict(geo={'scope':'usa'})"
   ]
  },
  {
   "cell_type": "code",
   "execution_count": 34,
   "metadata": {},
   "outputs": [],
   "source": [
    "choromap = go.Figure(data = [data],layout=layout)"
   ]
  },
  {
   "cell_type": "code",
   "execution_count": 35,
   "metadata": {},
   "outputs": [
    {
     "data": {
      "application/vnd.plotly.v1+json": {
       "config": {
        "linkText": "Export to plot.ly",
        "plotlyServerURL": "https://plot.ly",
        "showLink": false
       },
       "data": [
        {
         "colorbar": {
          "title": {
           "text": "Colorbar Title Goes Here"
          }
         },
         "colorscale": "Greens",
         "locationmode": "USA-states",
         "locations": [
          "AZ",
          "CA",
          "CO"
         ],
         "text": [
          "Arizona",
          "California",
          "Colorado"
         ],
         "type": "choropleth",
         "uid": "ea97c393-94ca-4fd1-9c8b-ca883a379205",
         "z": [
          1,
          2,
          3
         ]
        }
       ],
       "layout": {
        "geo": {
         "scope": "usa"
        }
       }
      },
      "text/html": [
       "<div id=\"6bca04be-8d37-4710-a372-e5051003514c\" style=\"height: 525px; width: 100%;\" class=\"plotly-graph-div\"></div><script type=\"text/javascript\">require([\"plotly\"], function(Plotly) { window.PLOTLYENV=window.PLOTLYENV || {};window.PLOTLYENV.BASE_URL=\"https://plot.ly\";Plotly.newPlot(\"6bca04be-8d37-4710-a372-e5051003514c\", [{\"colorbar\": {\"title\": {\"text\": \"Colorbar Title Goes Here\"}}, \"colorscale\": \"Greens\", \"locationmode\": \"USA-states\", \"locations\": [\"AZ\", \"CA\", \"CO\"], \"text\": [\"Arizona\", \"California\", \"Colorado\"], \"z\": [1.0, 2.0, 3.0], \"type\": \"choropleth\", \"uid\": \"ea97c393-94ca-4fd1-9c8b-ca883a379205\"}], {\"geo\": {\"scope\": \"usa\"}}, {\"showLink\": false, \"linkText\": \"Export to plot.ly\", \"plotlyServerURL\": \"https://plot.ly\"})});</script><script type=\"text/javascript\">window.addEventListener(\"resize\", function(){window._Plotly.Plots.resize(document.getElementById(\"6bca04be-8d37-4710-a372-e5051003514c\"));});</script>"
      ],
      "text/vnd.plotly.v1+html": [
       "<div id=\"6bca04be-8d37-4710-a372-e5051003514c\" style=\"height: 525px; width: 100%;\" class=\"plotly-graph-div\"></div><script type=\"text/javascript\">require([\"plotly\"], function(Plotly) { window.PLOTLYENV=window.PLOTLYENV || {};window.PLOTLYENV.BASE_URL=\"https://plot.ly\";Plotly.newPlot(\"6bca04be-8d37-4710-a372-e5051003514c\", [{\"colorbar\": {\"title\": {\"text\": \"Colorbar Title Goes Here\"}}, \"colorscale\": \"Greens\", \"locationmode\": \"USA-states\", \"locations\": [\"AZ\", \"CA\", \"CO\"], \"text\": [\"Arizona\", \"California\", \"Colorado\"], \"z\": [1.0, 2.0, 3.0], \"type\": \"choropleth\", \"uid\": \"ea97c393-94ca-4fd1-9c8b-ca883a379205\"}], {\"geo\": {\"scope\": \"usa\"}}, {\"showLink\": false, \"linkText\": \"Export to plot.ly\", \"plotlyServerURL\": \"https://plot.ly\"})});</script><script type=\"text/javascript\">window.addEventListener(\"resize\", function(){window._Plotly.Plots.resize(document.getElementById(\"6bca04be-8d37-4710-a372-e5051003514c\"));});</script>"
      ]
     },
     "metadata": {},
     "output_type": "display_data"
    }
   ],
   "source": [
    "iplot(choromap)"
   ]
  },
  {
   "cell_type": "code",
   "execution_count": 47,
   "metadata": {},
   "outputs": [],
   "source": [
    "import pandas as pd\n",
    "df = pd.read_csv('2011_US_AGRI_Exports')"
   ]
  },
  {
   "cell_type": "code",
   "execution_count": 48,
   "metadata": {},
   "outputs": [
    {
     "data": {
      "text/html": [
       "<div>\n",
       "<style scoped>\n",
       "    .dataframe tbody tr th:only-of-type {\n",
       "        vertical-align: middle;\n",
       "    }\n",
       "\n",
       "    .dataframe tbody tr th {\n",
       "        vertical-align: top;\n",
       "    }\n",
       "\n",
       "    .dataframe thead th {\n",
       "        text-align: right;\n",
       "    }\n",
       "</style>\n",
       "<table border=\"1\" class=\"dataframe\">\n",
       "  <thead>\n",
       "    <tr style=\"text-align: right;\">\n",
       "      <th></th>\n",
       "      <th>code</th>\n",
       "      <th>state</th>\n",
       "      <th>category</th>\n",
       "      <th>total exports</th>\n",
       "      <th>beef</th>\n",
       "      <th>pork</th>\n",
       "      <th>poultry</th>\n",
       "      <th>dairy</th>\n",
       "      <th>fruits fresh</th>\n",
       "      <th>fruits proc</th>\n",
       "      <th>total fruits</th>\n",
       "      <th>veggies fresh</th>\n",
       "      <th>veggies proc</th>\n",
       "      <th>total veggies</th>\n",
       "      <th>corn</th>\n",
       "      <th>wheat</th>\n",
       "      <th>cotton</th>\n",
       "      <th>text</th>\n",
       "    </tr>\n",
       "  </thead>\n",
       "  <tbody>\n",
       "    <tr>\n",
       "      <th>0</th>\n",
       "      <td>AL</td>\n",
       "      <td>Alabama</td>\n",
       "      <td>state</td>\n",
       "      <td>1390.63</td>\n",
       "      <td>34.4</td>\n",
       "      <td>10.6</td>\n",
       "      <td>481.0</td>\n",
       "      <td>4.06</td>\n",
       "      <td>8.0</td>\n",
       "      <td>17.1</td>\n",
       "      <td>25.11</td>\n",
       "      <td>5.5</td>\n",
       "      <td>8.9</td>\n",
       "      <td>14.33</td>\n",
       "      <td>34.9</td>\n",
       "      <td>70.0</td>\n",
       "      <td>317.61</td>\n",
       "      <td>Alabama&lt;br&gt;Beef 34.4 Dairy 4.06&lt;br&gt;Fruits 25.1...</td>\n",
       "    </tr>\n",
       "    <tr>\n",
       "      <th>1</th>\n",
       "      <td>AK</td>\n",
       "      <td>Alaska</td>\n",
       "      <td>state</td>\n",
       "      <td>13.31</td>\n",
       "      <td>0.2</td>\n",
       "      <td>0.1</td>\n",
       "      <td>0.0</td>\n",
       "      <td>0.19</td>\n",
       "      <td>0.0</td>\n",
       "      <td>0.0</td>\n",
       "      <td>0.00</td>\n",
       "      <td>0.6</td>\n",
       "      <td>1.0</td>\n",
       "      <td>1.56</td>\n",
       "      <td>0.0</td>\n",
       "      <td>0.0</td>\n",
       "      <td>0.00</td>\n",
       "      <td>Alaska&lt;br&gt;Beef 0.2 Dairy 0.19&lt;br&gt;Fruits 0.0 Ve...</td>\n",
       "    </tr>\n",
       "    <tr>\n",
       "      <th>2</th>\n",
       "      <td>AZ</td>\n",
       "      <td>Arizona</td>\n",
       "      <td>state</td>\n",
       "      <td>1463.17</td>\n",
       "      <td>71.3</td>\n",
       "      <td>17.9</td>\n",
       "      <td>0.0</td>\n",
       "      <td>105.48</td>\n",
       "      <td>19.3</td>\n",
       "      <td>41.0</td>\n",
       "      <td>60.27</td>\n",
       "      <td>147.5</td>\n",
       "      <td>239.4</td>\n",
       "      <td>386.91</td>\n",
       "      <td>7.3</td>\n",
       "      <td>48.7</td>\n",
       "      <td>423.95</td>\n",
       "      <td>Arizona&lt;br&gt;Beef 71.3 Dairy 105.48&lt;br&gt;Fruits 60...</td>\n",
       "    </tr>\n",
       "    <tr>\n",
       "      <th>3</th>\n",
       "      <td>AR</td>\n",
       "      <td>Arkansas</td>\n",
       "      <td>state</td>\n",
       "      <td>3586.02</td>\n",
       "      <td>53.2</td>\n",
       "      <td>29.4</td>\n",
       "      <td>562.9</td>\n",
       "      <td>3.53</td>\n",
       "      <td>2.2</td>\n",
       "      <td>4.7</td>\n",
       "      <td>6.88</td>\n",
       "      <td>4.4</td>\n",
       "      <td>7.1</td>\n",
       "      <td>11.45</td>\n",
       "      <td>69.5</td>\n",
       "      <td>114.5</td>\n",
       "      <td>665.44</td>\n",
       "      <td>Arkansas&lt;br&gt;Beef 53.2 Dairy 3.53&lt;br&gt;Fruits 6.8...</td>\n",
       "    </tr>\n",
       "    <tr>\n",
       "      <th>4</th>\n",
       "      <td>CA</td>\n",
       "      <td>California</td>\n",
       "      <td>state</td>\n",
       "      <td>16472.88</td>\n",
       "      <td>228.7</td>\n",
       "      <td>11.1</td>\n",
       "      <td>225.4</td>\n",
       "      <td>929.95</td>\n",
       "      <td>2791.8</td>\n",
       "      <td>5944.6</td>\n",
       "      <td>8736.40</td>\n",
       "      <td>803.2</td>\n",
       "      <td>1303.5</td>\n",
       "      <td>2106.79</td>\n",
       "      <td>34.6</td>\n",
       "      <td>249.3</td>\n",
       "      <td>1064.95</td>\n",
       "      <td>California&lt;br&gt;Beef 228.7 Dairy 929.95&lt;br&gt;Frui...</td>\n",
       "    </tr>\n",
       "  </tbody>\n",
       "</table>\n",
       "</div>"
      ],
      "text/plain": [
       "  code        state category  total exports   beef  pork  poultry   dairy  \\\n",
       "0   AL      Alabama    state        1390.63   34.4  10.6    481.0    4.06   \n",
       "1   AK       Alaska    state          13.31    0.2   0.1      0.0    0.19   \n",
       "2   AZ      Arizona    state        1463.17   71.3  17.9      0.0  105.48   \n",
       "3   AR     Arkansas    state        3586.02   53.2  29.4    562.9    3.53   \n",
       "4   CA   California    state       16472.88  228.7  11.1    225.4  929.95   \n",
       "\n",
       "   fruits fresh  fruits proc  total fruits  veggies fresh  veggies proc  \\\n",
       "0           8.0         17.1         25.11            5.5           8.9   \n",
       "1           0.0          0.0          0.00            0.6           1.0   \n",
       "2          19.3         41.0         60.27          147.5         239.4   \n",
       "3           2.2          4.7          6.88            4.4           7.1   \n",
       "4        2791.8       5944.6       8736.40          803.2        1303.5   \n",
       "\n",
       "   total veggies  corn  wheat   cotton  \\\n",
       "0          14.33  34.9   70.0   317.61   \n",
       "1           1.56   0.0    0.0     0.00   \n",
       "2         386.91   7.3   48.7   423.95   \n",
       "3          11.45  69.5  114.5   665.44   \n",
       "4        2106.79  34.6  249.3  1064.95   \n",
       "\n",
       "                                                text  \n",
       "0  Alabama<br>Beef 34.4 Dairy 4.06<br>Fruits 25.1...  \n",
       "1  Alaska<br>Beef 0.2 Dairy 0.19<br>Fruits 0.0 Ve...  \n",
       "2  Arizona<br>Beef 71.3 Dairy 105.48<br>Fruits 60...  \n",
       "3  Arkansas<br>Beef 53.2 Dairy 3.53<br>Fruits 6.8...  \n",
       "4   California<br>Beef 228.7 Dairy 929.95<br>Frui...  "
      ]
     },
     "execution_count": 48,
     "metadata": {},
     "output_type": "execute_result"
    }
   ],
   "source": [
    "df.head()"
   ]
  },
  {
   "cell_type": "code",
   "execution_count": 49,
   "metadata": {},
   "outputs": [],
   "source": [
    "data = dict(type='chropleth',\n",
    "           colorscale = 'YIOrRd',\n",
    "           locations = df['code'],\n",
    "           locationmode = 'USA-states',\n",
    "           z = df['total exports'],\n",
    "           text = df['text'],\n",
    "           marker = dict(line= dict(color = 'rgb(255,255,255)',width=2)), \n",
    "           colorbar = {'title':'Millions USD'}\n",
    "           )"
   ]
  },
  {
   "cell_type": "code",
   "execution_count": 52,
   "metadata": {},
   "outputs": [],
   "source": [
    "layout = dict(title = '2011 US Agriculture Exports by State',\n",
    "              geo = dict(scope='usa',\n",
    "                         showlakes = True,\n",
    "                         lakecolor = 'rgb(85,173,240)')\n",
    "             )"
   ]
  },
  {
   "cell_type": "code",
   "execution_count": 53,
   "metadata": {},
   "outputs": [
    {
     "ename": "ValueError",
     "evalue": "\n    Invalid element(s) received for the 'data' property of \n        Invalid elements include: [{'type': 'chropleth', 'colorscale': 'YIOrRd', 'locations': 0     AL\n1     AK\n2     AZ\n3     AR\n4     CA\n5     CO\n6     CT\n7     DE\n8     FL\n9     GA\n10    HI\n11    ID\n12    IL\n13    IN\n14    IA\n15    KS\n16    KY\n17    LA\n18    ME\n19    MD\n20    MA\n21    MI\n22    MN\n23    MS\n24    MO\n25    MT\n26    NE\n27    NV\n28    NH\n29    NJ\n30    NM\n31    NY\n32    NC\n33    ND\n34    OH\n35    OK\n36    OR\n37    PA\n38    RI\n39    SC\n40    SD\n41    TN\n42    TX\n43    UT\n44    VT\n45    VA\n46    WA\n47    WV\n48    WI\n49    WY\nName: code, dtype: object, 'locationmode': 'USA-states', 'z': 0      1390.63\n1        13.31\n2      1463.17\n3      3586.02\n4     16472.88\n5      1851.33\n6       259.62\n7       282.19\n8      3764.09\n9      2860.84\n10      401.84\n11     2078.89\n12     8709.48\n13     5050.23\n14    11273.76\n15     4589.01\n16     1889.15\n17     1914.23\n18      278.37\n19      692.75\n20      248.65\n21     3164.16\n22     7192.33\n23     2170.80\n24     3933.42\n25     1718.00\n26     7114.13\n27      139.89\n28       73.06\n29      500.40\n30      751.58\n31     1488.90\n32     3806.05\n33     3761.96\n34     3979.79\n35     1646.41\n36     1794.57\n37     1969.87\n38       31.59\n39      929.93\n40     3770.19\n41     1535.13\n42     6648.22\n43      453.39\n44      180.14\n45     1146.48\n46     3894.81\n47      138.89\n48     3090.23\n49      349.69\nName: total exports, dtype: float64, 'text': 0     Alabama<br>Beef 34.4 Dairy 4.06<br>Fruits 25.1...\n1     Alaska<br>Beef 0.2 Dairy 0.19<br>Fruits 0.0 Ve...\n2     Arizona<br>Beef 71.3 Dairy 105.48<br>Fruits 60...\n3     Arkansas<br>Beef 53.2 Dairy 3.53<br>Fruits 6.8...\n4      California<br>Beef 228.7 Dairy 929.95<br>Frui...\n5     Colorado<br>Beef 261.4 Dairy 71.94<br>Fruits 1...\n6     Connecticut<br>Beef 1.1 Dairy 9.49<br>Fruits 1...\n7     Delaware<br>Beef 0.4 Dairy 2.3<br>Fruits 1.53 ...\n8     Florida<br>Beef 42.6 Dairy 66.31<br>Fruits 137...\n9     Georgia<br>Beef 31.0 Dairy 38.38<br>Fruits 233...\n10    Hawaii<br>Beef 4.0 Dairy 1.16<br>Fruits 55.51 ...\n11    Idaho<br>Beef 119.8 Dairy 294.6<br>Fruits 21.6...\n12    Illinois<br>Beef 53.7 Dairy 45.82<br>Fruits 12...\n13    Indiana<br>Beef 21.9 Dairy 89.7<br>Fruits 12.9...\n14    Iowa<br>Beef 289.8 Dairy 107.0<br>Fruits 3.24 ...\n15    Kansas<br>Beef 659.3 Dairy 65.45<br>Fruits 3.1...\n16    Kentucky<br>Beef 54.8 Dairy 28.27<br>Fruits 6....\n17    Louisiana<br>Beef 19.8 Dairy 6.02<br>Fruits 17...\n18    Maine<br>Beef 1.4 Dairy 16.18<br>Fruits 52.01 ...\n19    Maryland<br>Beef 5.6 Dairy 24.81<br>Fruits 12....\n20    Massachusetts<br>Beef 0.6 Dairy 5.81<br>Fruits...\n21    Michigan<br>Beef 37.7 Dairy 214.82<br>Fruits 2...\n22    Minnesota<br>Beef 112.3 Dairy 218.05<br>Fruits...\n23    Mississippi<br>Beef 12.8 Dairy 5.45<br>Fruits ...\n24    Missouri<br>Beef 137.2 Dairy 34.26<br>Fruits 1...\n25    Montana<br>Beef 105.0 Dairy 6.82<br>Fruits 3.3...\n26    Nebraska<br>Beef 762.2 Dairy 30.07<br>Fruits 2...\n27    Nevada<br>Beef 21.8 Dairy 16.57<br>Fruits 1.19...\n28    New Hampshire<br>Beef 0.6 Dairy 7.46<br>Fruits...\n29    New Jersey<br>Beef 0.8 Dairy 3.37<br>Fruits 10...\n30    New Mexico<br>Beef 117.2 Dairy 191.01<br>Fruit...\n31    New York<br>Beef 22.2 Dairy 331.8<br>Fruits 20...\n32    North Carolina<br>Beef 24.8 Dairy 24.9<br>Frui...\n33    North Dakota<br>Beef 78.5 Dairy 8.14<br>Fruits...\n34    Ohio<br>Beef 36.2 Dairy 134.57<br>Fruits 27.21...\n35    Oklahoma<br>Beef 337.6 Dairy 24.35<br>Fruits 9...\n36    Oregon<br>Beef 58.8 Dairy 63.66<br>Fruits 315....\n37    Pennsylvania<br>Beef 50.9 Dairy 280.87<br>Frui...\n38    Rhode Island<br>Beef 0.1 Dairy 0.52<br>Fruits ...\n39    South Carolina<br>Beef 15.2 Dairy 7.62<br>Frui...\n40    South Dakota<br>Beef 193.5 Dairy 46.77<br>Frui...\n41    Tennessee<br>Beef 51.1 Dairy 21.18<br>Fruits 6...\n42    Texas<br>Beef 961.0 Dairy 240.55<br>Fruits 99....\n43    Utah<br>Beef 27.9 Dairy 48.6<br>Fruits 12.34 V...\n44    Vermont<br>Beef 6.2 Dairy 65.98<br>Fruits 8.01...\n45    Virginia<br>Beef 39.5 Dairy 47.85<br>Fruits 36...\n46    Washington<br>Beef 59.2 Dairy 154.18<br>Fruits...\n47    West Virginia<br>Beef 12.0 Dairy 3.9<br>Fruits...\n48    Wisconsin<br>Beef 107.3 Dairy 633.6<br>Fruits ...\n49    Wyoming<br>Beef 75.1 Dairy 2.89<br>Fruits 0.17...\nName: text, dtype: object, 'marker': {'line': {'color': 'rgb(255,255,255)', 'width': 2}}, 'colorbar': {'title': 'Millions USD'}}]\n\n    The 'data' property is a tuple of trace instances\n    that may be specified as:\n      - A list or tuple of trace instances\n        (e.g. [Scatter(...), Bar(...)])\n      - A list or tuple of dicts of string/value properties where:\n        - The 'type' property specifies the trace type\n            One of: ['area', 'bar', 'barpolar', 'box',\n                     'candlestick', 'carpet', 'choropleth', 'cone',\n                     'contour', 'contourcarpet', 'heatmap',\n                     'heatmapgl', 'histogram', 'histogram2d',\n                     'histogram2dcontour', 'mesh3d', 'ohlc',\n                     'parcats', 'parcoords', 'pie', 'pointcloud',\n                     'sankey', 'scatter', 'scatter3d',\n                     'scattercarpet', 'scattergeo', 'scattergl',\n                     'scattermapbox', 'scatterpolar',\n                     'scatterpolargl', 'scatterternary', 'splom',\n                     'streamtube', 'surface', 'table', 'violin']\n\n        - All remaining properties are passed to the constructor of\n          the specified trace type\n\n        (e.g. [{'type': 'scatter', ...}, {'type': 'bar, ...}])",
     "output_type": "error",
     "traceback": [
      "\u001b[0;31m---------------------------------------------------------------------------\u001b[0m",
      "\u001b[0;31mValueError\u001b[0m                                Traceback (most recent call last)",
      "\u001b[0;32m<ipython-input-53-243104ae4228>\u001b[0m in \u001b[0;36m<module>\u001b[0;34m\u001b[0m\n\u001b[0;32m----> 1\u001b[0;31m \u001b[0mchoromap\u001b[0m \u001b[0;34m=\u001b[0m \u001b[0mgo\u001b[0m\u001b[0;34m.\u001b[0m\u001b[0mFigure\u001b[0m\u001b[0;34m(\u001b[0m\u001b[0mdata\u001b[0m \u001b[0;34m=\u001b[0m \u001b[0;34m[\u001b[0m\u001b[0mdata\u001b[0m\u001b[0;34m]\u001b[0m\u001b[0;34m,\u001b[0m\u001b[0mlayout\u001b[0m \u001b[0;34m=\u001b[0m \u001b[0mlayout\u001b[0m\u001b[0;34m)\u001b[0m\u001b[0;34m\u001b[0m\u001b[0m\n\u001b[0m",
      "\u001b[0;32m/usr/local/lib/python3.7/site-packages/plotly/graph_objs/_figure.py\u001b[0m in \u001b[0;36m__init__\u001b[0;34m(self, data, layout, frames, skip_invalid)\u001b[0m\n\u001b[1;32m    447\u001b[0m             \u001b[0;32mis\u001b[0m \u001b[0minvalid\u001b[0m \u001b[0mAND\u001b[0m \u001b[0mskip_invalid\u001b[0m \u001b[0;32mis\u001b[0m \u001b[0;32mFalse\u001b[0m\u001b[0;34m\u001b[0m\u001b[0m\n\u001b[1;32m    448\u001b[0m         \"\"\"\n\u001b[0;32m--> 449\u001b[0;31m         \u001b[0msuper\u001b[0m\u001b[0;34m(\u001b[0m\u001b[0mFigure\u001b[0m\u001b[0;34m,\u001b[0m \u001b[0mself\u001b[0m\u001b[0;34m)\u001b[0m\u001b[0;34m.\u001b[0m\u001b[0m__init__\u001b[0m\u001b[0;34m(\u001b[0m\u001b[0mdata\u001b[0m\u001b[0;34m,\u001b[0m \u001b[0mlayout\u001b[0m\u001b[0;34m,\u001b[0m \u001b[0mframes\u001b[0m\u001b[0;34m,\u001b[0m \u001b[0mskip_invalid\u001b[0m\u001b[0;34m)\u001b[0m\u001b[0;34m\u001b[0m\u001b[0m\n\u001b[0m\u001b[1;32m    450\u001b[0m \u001b[0;34m\u001b[0m\u001b[0m\n\u001b[1;32m    451\u001b[0m     def add_area(\n",
      "\u001b[0;32m/usr/local/lib/python3.7/site-packages/plotly/basedatatypes.py\u001b[0m in \u001b[0;36m__init__\u001b[0;34m(self, data, layout_plotly, frames, skip_invalid)\u001b[0m\n\u001b[1;32m    139\u001b[0m         \u001b[0;31m# ### Import traces ###\u001b[0m\u001b[0;34m\u001b[0m\u001b[0;34m\u001b[0m\u001b[0m\n\u001b[1;32m    140\u001b[0m         data = self._data_validator.validate_coerce(data,\n\u001b[0;32m--> 141\u001b[0;31m                                                     skip_invalid=skip_invalid)\n\u001b[0m\u001b[1;32m    142\u001b[0m \u001b[0;34m\u001b[0m\u001b[0m\n\u001b[1;32m    143\u001b[0m         \u001b[0;31m# ### Save tuple of trace objects ###\u001b[0m\u001b[0;34m\u001b[0m\u001b[0;34m\u001b[0m\u001b[0m\n",
      "\u001b[0;32m/usr/local/lib/python3.7/site-packages/_plotly_utils/basevalidators.py\u001b[0m in \u001b[0;36mvalidate_coerce\u001b[0;34m(self, v, skip_invalid)\u001b[0m\n\u001b[1;32m   2320\u001b[0m \u001b[0;34m\u001b[0m\u001b[0m\n\u001b[1;32m   2321\u001b[0m             \u001b[0;32mif\u001b[0m \u001b[0minvalid_els\u001b[0m\u001b[0;34m:\u001b[0m\u001b[0;34m\u001b[0m\u001b[0m\n\u001b[0;32m-> 2322\u001b[0;31m                 \u001b[0mself\u001b[0m\u001b[0;34m.\u001b[0m\u001b[0mraise_invalid_elements\u001b[0m\u001b[0;34m(\u001b[0m\u001b[0minvalid_els\u001b[0m\u001b[0;34m)\u001b[0m\u001b[0;34m\u001b[0m\u001b[0m\n\u001b[0m\u001b[1;32m   2323\u001b[0m \u001b[0;34m\u001b[0m\u001b[0m\n\u001b[1;32m   2324\u001b[0m             \u001b[0mv\u001b[0m \u001b[0;34m=\u001b[0m \u001b[0mto_scalar_or_list\u001b[0m\u001b[0;34m(\u001b[0m\u001b[0mres\u001b[0m\u001b[0;34m)\u001b[0m\u001b[0;34m\u001b[0m\u001b[0m\n",
      "\u001b[0;32m/usr/local/lib/python3.7/site-packages/_plotly_utils/basevalidators.py\u001b[0m in \u001b[0;36mraise_invalid_elements\u001b[0;34m(self, invalid_els)\u001b[0m\n\u001b[1;32m    264\u001b[0m                 \u001b[0mpname\u001b[0m\u001b[0;34m=\u001b[0m\u001b[0mself\u001b[0m\u001b[0;34m.\u001b[0m\u001b[0mparent_name\u001b[0m\u001b[0;34m,\u001b[0m\u001b[0;34m\u001b[0m\u001b[0m\n\u001b[1;32m    265\u001b[0m                 \u001b[0minvalid\u001b[0m\u001b[0;34m=\u001b[0m\u001b[0minvalid_els\u001b[0m\u001b[0;34m[\u001b[0m\u001b[0;34m:\u001b[0m\u001b[0;36m10\u001b[0m\u001b[0;34m]\u001b[0m\u001b[0;34m,\u001b[0m\u001b[0;34m\u001b[0m\u001b[0m\n\u001b[0;32m--> 266\u001b[0;31m                 valid_clr_desc=self.description()))\n\u001b[0m\u001b[1;32m    267\u001b[0m \u001b[0;34m\u001b[0m\u001b[0m\n\u001b[1;32m    268\u001b[0m     \u001b[0;32mdef\u001b[0m \u001b[0mvalidate_coerce\u001b[0m\u001b[0;34m(\u001b[0m\u001b[0mself\u001b[0m\u001b[0;34m,\u001b[0m \u001b[0mv\u001b[0m\u001b[0;34m)\u001b[0m\u001b[0;34m:\u001b[0m\u001b[0;34m\u001b[0m\u001b[0m\n",
      "\u001b[0;31mValueError\u001b[0m: \n    Invalid element(s) received for the 'data' property of \n        Invalid elements include: [{'type': 'chropleth', 'colorscale': 'YIOrRd', 'locations': 0     AL\n1     AK\n2     AZ\n3     AR\n4     CA\n5     CO\n6     CT\n7     DE\n8     FL\n9     GA\n10    HI\n11    ID\n12    IL\n13    IN\n14    IA\n15    KS\n16    KY\n17    LA\n18    ME\n19    MD\n20    MA\n21    MI\n22    MN\n23    MS\n24    MO\n25    MT\n26    NE\n27    NV\n28    NH\n29    NJ\n30    NM\n31    NY\n32    NC\n33    ND\n34    OH\n35    OK\n36    OR\n37    PA\n38    RI\n39    SC\n40    SD\n41    TN\n42    TX\n43    UT\n44    VT\n45    VA\n46    WA\n47    WV\n48    WI\n49    WY\nName: code, dtype: object, 'locationmode': 'USA-states', 'z': 0      1390.63\n1        13.31\n2      1463.17\n3      3586.02\n4     16472.88\n5      1851.33\n6       259.62\n7       282.19\n8      3764.09\n9      2860.84\n10      401.84\n11     2078.89\n12     8709.48\n13     5050.23\n14    11273.76\n15     4589.01\n16     1889.15\n17     1914.23\n18      278.37\n19      692.75\n20      248.65\n21     3164.16\n22     7192.33\n23     2170.80\n24     3933.42\n25     1718.00\n26     7114.13\n27      139.89\n28       73.06\n29      500.40\n30      751.58\n31     1488.90\n32     3806.05\n33     3761.96\n34     3979.79\n35     1646.41\n36     1794.57\n37     1969.87\n38       31.59\n39      929.93\n40     3770.19\n41     1535.13\n42     6648.22\n43      453.39\n44      180.14\n45     1146.48\n46     3894.81\n47      138.89\n48     3090.23\n49      349.69\nName: total exports, dtype: float64, 'text': 0     Alabama<br>Beef 34.4 Dairy 4.06<br>Fruits 25.1...\n1     Alaska<br>Beef 0.2 Dairy 0.19<br>Fruits 0.0 Ve...\n2     Arizona<br>Beef 71.3 Dairy 105.48<br>Fruits 60...\n3     Arkansas<br>Beef 53.2 Dairy 3.53<br>Fruits 6.8...\n4      California<br>Beef 228.7 Dairy 929.95<br>Frui...\n5     Colorado<br>Beef 261.4 Dairy 71.94<br>Fruits 1...\n6     Connecticut<br>Beef 1.1 Dairy 9.49<br>Fruits 1...\n7     Delaware<br>Beef 0.4 Dairy 2.3<br>Fruits 1.53 ...\n8     Florida<br>Beef 42.6 Dairy 66.31<br>Fruits 137...\n9     Georgia<br>Beef 31.0 Dairy 38.38<br>Fruits 233...\n10    Hawaii<br>Beef 4.0 Dairy 1.16<br>Fruits 55.51 ...\n11    Idaho<br>Beef 119.8 Dairy 294.6<br>Fruits 21.6...\n12    Illinois<br>Beef 53.7 Dairy 45.82<br>Fruits 12...\n13    Indiana<br>Beef 21.9 Dairy 89.7<br>Fruits 12.9...\n14    Iowa<br>Beef 289.8 Dairy 107.0<br>Fruits 3.24 ...\n15    Kansas<br>Beef 659.3 Dairy 65.45<br>Fruits 3.1...\n16    Kentucky<br>Beef 54.8 Dairy 28.27<br>Fruits 6....\n17    Louisiana<br>Beef 19.8 Dairy 6.02<br>Fruits 17...\n18    Maine<br>Beef 1.4 Dairy 16.18<br>Fruits 52.01 ...\n19    Maryland<br>Beef 5.6 Dairy 24.81<br>Fruits 12....\n20    Massachusetts<br>Beef 0.6 Dairy 5.81<br>Fruits...\n21    Michigan<br>Beef 37.7 Dairy 214.82<br>Fruits 2...\n22    Minnesota<br>Beef 112.3 Dairy 218.05<br>Fruits...\n23    Mississippi<br>Beef 12.8 Dairy 5.45<br>Fruits ...\n24    Missouri<br>Beef 137.2 Dairy 34.26<br>Fruits 1...\n25    Montana<br>Beef 105.0 Dairy 6.82<br>Fruits 3.3...\n26    Nebraska<br>Beef 762.2 Dairy 30.07<br>Fruits 2...\n27    Nevada<br>Beef 21.8 Dairy 16.57<br>Fruits 1.19...\n28    New Hampshire<br>Beef 0.6 Dairy 7.46<br>Fruits...\n29    New Jersey<br>Beef 0.8 Dairy 3.37<br>Fruits 10...\n30    New Mexico<br>Beef 117.2 Dairy 191.01<br>Fruit...\n31    New York<br>Beef 22.2 Dairy 331.8<br>Fruits 20...\n32    North Carolina<br>Beef 24.8 Dairy 24.9<br>Frui...\n33    North Dakota<br>Beef 78.5 Dairy 8.14<br>Fruits...\n34    Ohio<br>Beef 36.2 Dairy 134.57<br>Fruits 27.21...\n35    Oklahoma<br>Beef 337.6 Dairy 24.35<br>Fruits 9...\n36    Oregon<br>Beef 58.8 Dairy 63.66<br>Fruits 315....\n37    Pennsylvania<br>Beef 50.9 Dairy 280.87<br>Frui...\n38    Rhode Island<br>Beef 0.1 Dairy 0.52<br>Fruits ...\n39    South Carolina<br>Beef 15.2 Dairy 7.62<br>Frui...\n40    South Dakota<br>Beef 193.5 Dairy 46.77<br>Frui...\n41    Tennessee<br>Beef 51.1 Dairy 21.18<br>Fruits 6...\n42    Texas<br>Beef 961.0 Dairy 240.55<br>Fruits 99....\n43    Utah<br>Beef 27.9 Dairy 48.6<br>Fruits 12.34 V...\n44    Vermont<br>Beef 6.2 Dairy 65.98<br>Fruits 8.01...\n45    Virginia<br>Beef 39.5 Dairy 47.85<br>Fruits 36...\n46    Washington<br>Beef 59.2 Dairy 154.18<br>Fruits...\n47    West Virginia<br>Beef 12.0 Dairy 3.9<br>Fruits...\n48    Wisconsin<br>Beef 107.3 Dairy 633.6<br>Fruits ...\n49    Wyoming<br>Beef 75.1 Dairy 2.89<br>Fruits 0.17...\nName: text, dtype: object, 'marker': {'line': {'color': 'rgb(255,255,255)', 'width': 2}}, 'colorbar': {'title': 'Millions USD'}}]\n\n    The 'data' property is a tuple of trace instances\n    that may be specified as:\n      - A list or tuple of trace instances\n        (e.g. [Scatter(...), Bar(...)])\n      - A list or tuple of dicts of string/value properties where:\n        - The 'type' property specifies the trace type\n            One of: ['area', 'bar', 'barpolar', 'box',\n                     'candlestick', 'carpet', 'choropleth', 'cone',\n                     'contour', 'contourcarpet', 'heatmap',\n                     'heatmapgl', 'histogram', 'histogram2d',\n                     'histogram2dcontour', 'mesh3d', 'ohlc',\n                     'parcats', 'parcoords', 'pie', 'pointcloud',\n                     'sankey', 'scatter', 'scatter3d',\n                     'scattercarpet', 'scattergeo', 'scattergl',\n                     'scattermapbox', 'scatterpolar',\n                     'scatterpolargl', 'scatterternary', 'splom',\n                     'streamtube', 'surface', 'table', 'violin']\n\n        - All remaining properties are passed to the constructor of\n          the specified trace type\n\n        (e.g. [{'type': 'scatter', ...}, {'type': 'bar, ...}])"
     ]
    }
   ],
   "source": [
    "choromap = go.Figure(data = [data],layout = layout)"
   ]
  },
  {
   "cell_type": "code",
   "execution_count": null,
   "metadata": {},
   "outputs": [],
   "source": []
  }
 ],
 "metadata": {
  "kernelspec": {
   "display_name": "Python 3",
   "language": "python",
   "name": "python3"
  },
  "language_info": {
   "codemirror_mode": {
    "name": "ipython",
    "version": 3
   },
   "file_extension": ".py",
   "mimetype": "text/x-python",
   "name": "python",
   "nbconvert_exporter": "python",
   "pygments_lexer": "ipython3",
   "version": "3.7.0"
  }
 },
 "nbformat": 4,
 "nbformat_minor": 2
}
